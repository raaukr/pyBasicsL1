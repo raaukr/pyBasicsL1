{
 "cells": [
  {
   "cell_type": "markdown",
   "id": "79d790fd",
   "metadata": {},
   "source": [
    "# Моя перша лабка з Python"
   ]
  },
  {
   "cell_type": "markdown",
   "id": "c07ea2c7",
   "metadata": {},
   "source": [
    "1. Написати функцію з одним аргументом, яка перевіряє чи є аргумент числом. Якщо так, то повертає чи є це цисло парним чи не парним. Якщо аргумент не число - повертає пусту строку."
   ]
  },
  {
   "cell_type": "code",
   "execution_count": 19,
   "id": "0528748d",
   "metadata": {},
   "outputs": [],
   "source": [
    "def is_num(string):\n",
    "    if string.isnumeric() == True:\n",
    "        if (int(string) % 2) == 0:\n",
    "            print (\"Парне\")\n",
    "        else:\n",
    "            print (\"Непарне\")\n",
    "    else:\n",
    "        print(\"\")"
   ]
  },
  {
   "cell_type": "code",
   "execution_count": 20,
   "id": "21f35e20",
   "metadata": {},
   "outputs": [
    {
     "name": "stdout",
     "output_type": "stream",
     "text": [
      "Парне\n",
      "Непарне\n",
      "\n"
     ]
    }
   ],
   "source": [
    "string_even = \"12\"\n",
    "string_odd = \"3\"\n",
    "string_text = \"Hi\"\n",
    "\n",
    "is_num(string_even)\n",
    "is_num(string_odd)\n",
    "is_num(string_text)"
   ]
  },
  {
   "cell_type": "markdown",
   "id": "40a7bc6d",
   "metadata": {},
   "source": [
    "2. Написати функцію, яка починає перебирати числа від 1 до нескінченності і перевіряє чи є число простим (просте число - те яке ділиться лише на 1 чи само на себе). Якщо просте число знайдене - воно додається до списку. Після пʼятого знайденого простого числа функція повинна повернути суму всіх пʼяти простих чисел у списку."
   ]
  },
  {
   "cell_type": "code",
   "execution_count": 37,
   "id": "044e874a",
   "metadata": {},
   "outputs": [],
   "source": [
    "def is_prime(number):\n",
    "    if number <= 1:\n",
    "        return False\n",
    "    for i in range(2, int(number**0.5) + 1):\n",
    "        if number % i == 0:\n",
    "            return False\n",
    "    return True\n",
    "\n",
    "def search_primes():\n",
    "    l_num = []\n",
    "    num = 2\n",
    "    while len(l_num) < 5:\n",
    "        if is_prime(num):\n",
    "            l_num.append(num)\n",
    "        num += 1\n",
    "\n",
    "    return sum(l_num)"
   ]
  },
  {
   "cell_type": "code",
   "execution_count": 38,
   "id": "1db7516f",
   "metadata": {},
   "outputs": [
    {
     "name": "stdout",
     "output_type": "stream",
     "text": [
      "28\n"
     ]
    }
   ],
   "source": [
    "result = search_primes()\n",
    "print(result)"
   ]
  },
  {
   "cell_type": "markdown",
   "id": "71ec18dc",
   "metadata": {},
   "source": [
    "3. Написати функцію з одним аргументом n, що є числом. Функція повинна повернути суму наступного ряду з n чисел 1 + 11 + 111 + 1111 + ...., де кожний елемент - число з постійно зростаючою кількістю одиниць.\n",
    "Наприклад:\n",
    "Ви передаєте в функцію фргумент 5.\n",
    "Функція рахує сумму для ряду виду: 1 + 11 + 111 + 1111 + 11111.\n",
    "В даному прикладі вона повинна повернути число 12345"
   ]
  },
  {
   "cell_type": "code",
   "execution_count": 39,
   "id": "974ecb63",
   "metadata": {},
   "outputs": [],
   "source": [
    "def row_sum(n):\n",
    "    if n <= 0:\n",
    "        return 0\n",
    "\n",
    "    res_sum = 0\n",
    "    itt = 0\n",
    "    for i in range(n):\n",
    "        itt = itt * 10 + 1\n",
    "        res_sum += itt\n",
    "\n",
    "    return res_sum"
   ]
  },
  {
   "cell_type": "code",
   "execution_count": 40,
   "id": "8d4d30a6",
   "metadata": {},
   "outputs": [
    {
     "name": "stdout",
     "output_type": "stream",
     "text": [
      "12345\n"
     ]
    }
   ],
   "source": [
    "result = row_sum(5)\n",
    "print(result)"
   ]
  }
 ],
 "metadata": {
  "kernelspec": {
   "display_name": "Python 3 (ipykernel)",
   "language": "python",
   "name": "python3"
  },
  "language_info": {
   "codemirror_mode": {
    "name": "ipython",
    "version": 3
   },
   "file_extension": ".py",
   "mimetype": "text/x-python",
   "name": "python",
   "nbconvert_exporter": "python",
   "pygments_lexer": "ipython3",
   "version": "3.11.2"
  }
 },
 "nbformat": 4,
 "nbformat_minor": 5
}
